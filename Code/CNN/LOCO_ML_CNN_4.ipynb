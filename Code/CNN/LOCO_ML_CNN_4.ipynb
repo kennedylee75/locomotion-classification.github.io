{
 "cells": [
  {
   "cell_type": "code",
   "execution_count": 64,
   "metadata": {},
   "outputs": [],
   "source": [
    "import numpy as np\n",
    "import seaborn as sn\n",
    "import os\n",
    "import matplotlib.pyplot as plt\n",
    "\n",
    "#Load CNN modules\n",
    "from keras.utils import to_categorical\n",
    "import tensorflow as tf\n",
    "import keras\n",
    "\n",
    "os.environ['TF_FORCE_GPU_ALLOW_GROWTH'] = 'true'"
   ]
  },
  {
   "cell_type": "code",
   "execution_count": 65,
   "metadata": {},
   "outputs": [],
   "source": [
    "import scipy.io as scio\n",
    "\n",
    "data = scio.loadmat('data_all_env.mat')"
   ]
  },
  {
   "cell_type": "code",
   "execution_count": 66,
   "metadata": {},
   "outputs": [],
   "source": [
    "all_env_data = data.get('all_env_data')\n",
    "all_env_labels = data.get('all_env_labels')\n",
    "all_env_labels = np.delete(all_env_labels,1)\n",
    "modes = {'idle','walk','stand','stairascent','stairdescent','rampascent','rampdescent'};"
   ]
  },
  {
   "cell_type": "code",
   "execution_count": 67,
   "metadata": {},
   "outputs": [],
   "source": [
    "i = np.argsort(all_env_labels)\n",
    "dataSort = all_env_data[i]\n",
    "labelSort = all_env_labels[i]\n",
    "labelDif = labelSort[1:] - labelSort[:-1]\n",
    "breaks = np.where(abs(labelDif) > 0)[0]+1\n",
    "dataClass = np.split(dataSort,breaks)\n",
    "classes = np.split(labelSort,breaks)"
   ]
  },
  {
   "cell_type": "code",
   "execution_count": 68,
   "metadata": {},
   "outputs": [],
   "source": [
    "sizes = []\n",
    "train_X = []\n",
    "test_X = []\n",
    "valid_X = []\n",
    "\n",
    "for classData in dataClass:\n",
    "    #sizes.append(np.size(i))\n",
    "    stop1 = np.floor(np.size(classData,0)*0.7).astype(int)\n",
    "    stop2 = np.floor(np.size(classData,0)*0.85).astype(int)\n",
    "    train_X.extend(classData[0:stop1])\n",
    "    test_X.extend(classData[stop1:stop2])\n",
    "    valid_X.extend(classData[stop2:len(classData)])\n",
    "    \n",
    "np.random.seed(10)\n",
    "ish = list(np.arange(len(train_X)))\n",
    "np.random.shuffle(ish)\n",
    "ishtr = np.array(ish)\n",
    "\n",
    "ish = list(np.arange(len(test_X)))\n",
    "np.random.shuffle(ish)\n",
    "ishte = np.array(ish)\n",
    "           \n",
    "ish = list(np.arange(len(valid_X)))\n",
    "np.random.shuffle(ish)\n",
    "ishva = np.array(ish)\n",
    "\n",
    "train_X = np.array(train_X, dtype=\"object\")\n",
    "test_X = np.array(test_X, dtype=\"object\")\n",
    "valid_X = np.array(valid_X, dtype=\"object\")\n",
    "\n",
    "train_X = train_X[ishtr]\n",
    "test_X = test_X[ishte]\n",
    "valid_X = valid_X[ishva]"
   ]
  },
  {
   "cell_type": "code",
   "execution_count": 69,
   "metadata": {},
   "outputs": [],
   "source": [
    "train_Y = []\n",
    "test_Y = []\n",
    "valid_Y = []\n",
    "\n",
    "\n",
    "for classData in classes:\n",
    "    stop1 = np.floor(np.size(classData,0)*0.7).astype(int)\n",
    "    stop2 = np.floor(np.size(classData,0)*0.85).astype(int)\n",
    "    train_Y.extend(classData[0:stop1])\n",
    "    test_Y.extend(classData[stop1:stop2])\n",
    "    valid_Y.extend(classData[stop2:len(classData)])\n",
    "    \n",
    "train_Y = np.array(train_Y, dtype=\"object\")\n",
    "test_Y = np.array(test_Y, dtype=\"object\")\n",
    "valid_Y = np.array(valid_Y, dtype=\"object\")\n",
    "\n",
    "train_Y = train_Y[ishtr]\n",
    "test_Y = test_Y[ishte]\n",
    "valid_Y = valid_Y[ishva]"
   ]
  },
  {
   "cell_type": "code",
   "execution_count": 70,
   "metadata": {},
   "outputs": [
    {
     "name": "stdout",
     "output_type": "stream",
     "text": [
      "(179255, 44)\n",
      "(38413, 44)\n",
      "(38416, 44)\n",
      "(179255,)\n",
      "(38413,)\n",
      "(38416,)\n"
     ]
    }
   ],
   "source": [
    "print(np.shape(train_X))\n",
    "print(np.shape(test_X))\n",
    "print(np.shape(valid_X))\n",
    "print(np.shape(train_Y))\n",
    "print(np.shape(test_Y))\n",
    "print(np.shape(valid_Y))"
   ]
  },
  {
   "cell_type": "code",
   "execution_count": 71,
   "metadata": {},
   "outputs": [
    {
     "data": {
      "text/plain": [
       "Text(0.5, 1.0, 'Ground Truth : 3')"
      ]
     },
     "execution_count": 71,
     "metadata": {},
     "output_type": "execute_result"
    },
    {
     "data": {
      "image/png": "[encoded data removed]",
      "text/plain": [
       "<Figure size 432x288 with 1 Axes>"
      ]
     },
     "metadata": {
      "needs_background": "light"
     },
     "output_type": "display_data"
    }
   ],
   "source": [
    "plt.subplot(121)\n",
    "plt.plot(train_X[0])\n",
    "plt.title(\"Ground Truth : {}\".format(train_Y[0]))"
   ]
  },
  {
   "cell_type": "code",
   "execution_count": 72,
   "metadata": {},
   "outputs": [
    {
     "name": "stdout",
     "output_type": "stream",
     "text": [
      "Original label: 3\n",
      "After conversion to one-hot: [0. 0. 1. 0. 0. 0. 0.]\n",
      "Original label: 1\n",
      "After conversion to one-hot: [1. 0. 0. 0. 0. 0. 0.]\n",
      "Original label: 2\n",
      "After conversion to one-hot: [0. 1. 0. 0. 0. 0. 0.]\n"
     ]
    }
   ],
   "source": [
    "train_Y_one_hot = to_categorical(train_Y-1)\n",
    "\n",
    "print('Original label:', train_Y[0])\n",
    "print('After conversion to one-hot:', train_Y_one_hot[0])\n",
    "        \n",
    "test_Y_one_hot = to_categorical(test_Y-1)\n",
    "\n",
    "print('Original label:', test_Y[0])\n",
    "print('After conversion to one-hot:', test_Y_one_hot[0])\n",
    "\n",
    "valid_Y_one_hot = to_categorical(valid_Y-1)\n",
    "\n",
    "print('Original label:', valid_Y[0])\n",
    "print('After conversion to one-hot:', valid_Y_one_hot[0])"
   ]
  },
  {
   "cell_type": "code",
   "execution_count": 73,
   "metadata": {},
   "outputs": [],
   "source": [
    "#from sklearn.model_selection import train_test_split\n",
    "#train_X,valid_X,train_label,valid_label = train_test_split(train_X, train_Y_one_hot, test_size=0.2, random_state=13)\n",
    "\n",
    "train_X = train_X[:,np.newaxis]\n",
    "valid_X = valid_X[:,np.newaxis]\n",
    "test_X = test_X[:,np.newaxis]\n",
    "train_label = train_Y_one_hot\n",
    "valid_label = valid_Y_one_hot\n",
    "test_label = test_Y_one_hot"
   ]
  },
  {
   "cell_type": "code",
   "execution_count": 74,
   "metadata": {},
   "outputs": [
    {
     "data": {
      "text/plain": [
       "((179255, 1, 44),\n",
       " (38416, 1, 44),\n",
       " (38413, 1, 44),\n",
       " (179255, 7),\n",
       " (38416, 7),\n",
       " (38413, 7))"
      ]
     },
     "execution_count": 74,
     "metadata": {},
     "output_type": "execute_result"
    }
   ],
   "source": [
    "train_X.shape,valid_X.shape,test_X.shape,train_label.shape,valid_label.shape,test_label.shape"
   ]
  },
  {
   "cell_type": "code",
   "execution_count": 75,
   "metadata": {},
   "outputs": [],
   "source": [
    "import keras\n",
    "from keras.models import Sequential,Input,Model\n",
    "from keras.layers import Dense, Dropout, Flatten\n",
    "from keras.layers import Conv1D, MaxPooling1D\n",
    "from keras.layers.normalization import BatchNormalization\n",
    "from keras.layers.advanced_activations import LeakyReLU"
   ]
  },
  {
   "cell_type": "code",
   "execution_count": 76,
   "metadata": {},
   "outputs": [],
   "source": [
    "batch_size = 32\n",
    "epochs = 30\n",
    "num_classes = len(set(train_Y))"
   ]
  },
  {
   "cell_type": "code",
   "execution_count": 77,
   "metadata": {},
   "outputs": [],
   "source": [
    "model = Sequential()\n",
    "model.add(Conv1D(32, kernel_size=3,activation='linear',input_shape=(1, 44),padding='same'))\n",
    "model.add(LeakyReLU(alpha=0.1))\n",
    "model.add(MaxPooling1D((2),padding='same'))\n",
    "#model.add(Dropout(0.5))\n",
    "#model.add(BatchNormalization())\n",
    "model.add(Conv1D(64, (3), activation='linear',padding='same'))\n",
    "model.add(LeakyReLU(alpha=0.1))\n",
    "model.add(MaxPooling1D(pool_size=(2),padding='same'))\n",
    "#model.add(Dropout(0.5))\n",
    "#model.add(BatchNormalization())\n",
    "model.add(Conv1D(128, (3), activation='linear',padding='same'))\n",
    "model.add(LeakyReLU(alpha=0.1))                  \n",
    "model.add(MaxPooling1D(pool_size=(2),padding='same'))\n",
    "#model.add(Dropout(0.5))\n",
    "#model.add(BatchNormalization())\n",
    "model.add(Flatten())\n",
    "model.add(Dense(128, activation='linear'))\n",
    "model.add(LeakyReLU(alpha=0.1))                  \n",
    "model.add(Dense(num_classes, activation='softmax'))"
   ]
  },
  {
   "cell_type": "code",
   "execution_count": 78,
   "metadata": {},
   "outputs": [],
   "source": [
    "model.compile(loss=keras.losses.categorical_crossentropy, optimizer=keras.optimizers.Adam(0.00001),metrics=['accuracy'])"
   ]
  },
  {
   "cell_type": "code",
   "execution_count": 79,
   "metadata": {},
   "outputs": [
    {
     "name": "stdout",
     "output_type": "stream",
     "text": [
      "Model: \"sequential_4\"\n",
      "_________________________________________________________________\n",
      "Layer (type)                 Output Shape              Param #   \n",
      "=================================================================\n",
      "conv1d_10 (Conv1D)           (None, 1, 32)             4256      \n",
      "_________________________________________________________________\n",
      "leaky_re_lu_13 (LeakyReLU)   (None, 1, 32)             0         \n",
      "_________________________________________________________________\n",
      "max_pooling1d_10 (MaxPooling (None, 1, 32)             0         \n",
      "_________________________________________________________________\n",
      "conv1d_11 (Conv1D)           (None, 1, 64)             6208      \n",
      "_________________________________________________________________\n",
      "leaky_re_lu_14 (LeakyReLU)   (None, 1, 64)             0         \n",
      "_________________________________________________________________\n",
      "max_pooling1d_11 (MaxPooling (None, 1, 64)             0         \n",
      "_________________________________________________________________\n",
      "conv1d_12 (Conv1D)           (None, 1, 128)            24704     \n",
      "_________________________________________________________________\n",
      "leaky_re_lu_15 (LeakyReLU)   (None, 1, 128)            0         \n",
      "_________________________________________________________________\n",
      "max_pooling1d_12 (MaxPooling (None, 1, 128)            0         \n",
      "_________________________________________________________________\n",
      "flatten_4 (Flatten)          (None, 128)               0         \n",
      "_________________________________________________________________\n",
      "dense_7 (Dense)              (None, 128)               16512     \n",
      "_________________________________________________________________\n",
      "leaky_re_lu_16 (LeakyReLU)   (None, 128)               0         \n",
      "_________________________________________________________________\n",
      "dense_8 (Dense)              (None, 7)                 903       \n",
      "=================================================================\n",
      "Total params: 52,583\n",
      "Trainable params: 52,583\n",
      "Non-trainable params: 0\n",
      "_________________________________________________________________\n"
     ]
    }
   ],
   "source": [
    "model.summary()"
   ]
  },
  {
   "cell_type": "code",
   "execution_count": 80,
   "metadata": {},
   "outputs": [
    {
     "name": "stdout",
     "output_type": "stream",
     "text": [
      "Train on 179255 samples, validate on 38416 samples\n",
      "Epoch 1/30\n",
      "179255/179255 [==============================] - 34s 189us/step - loss: 1.3493 - accuracy: 0.5036 - val_loss: 0.9844 - val_accuracy: 0.6525\n",
      "Epoch 2/30\n",
      "179255/179255 [==============================] - 34s 191us/step - loss: 0.7895 - accuracy: 0.7382 - val_loss: 0.6681 - val_accuracy: 0.7727\n",
      "Epoch 3/30\n",
      "179255/179255 [==============================] - 33s 186us/step - loss: 0.5370 - accuracy: 0.8305 - val_loss: 0.5464 - val_accuracy: 0.8139\n",
      "Epoch 4/30\n",
      "179255/179255 [==============================] - 33s 186us/step - loss: 0.4219 - accuracy: 0.8663 - val_loss: 0.4840 - val_accuracy: 0.8372\n",
      "Epoch 5/30\n",
      "179255/179255 [==============================] - 34s 191us/step - loss: 0.3547 - accuracy: 0.8883 - val_loss: 0.4437 - val_accuracy: 0.8570\n",
      "Epoch 6/30\n",
      "179255/179255 [==============================] - 34s 192us/step - loss: 0.3107 - accuracy: 0.9027 - val_loss: 0.4184 - val_accuracy: 0.8709\n",
      "Epoch 7/30\n",
      "179255/179255 [==============================] - 34s 191us/step - loss: 0.2794 - accuracy: 0.9128 - val_loss: 0.4073 - val_accuracy: 0.8767\n",
      "Epoch 8/30\n",
      "179255/179255 [==============================] - 35s 196us/step - loss: 0.2559 - accuracy: 0.9210 - val_loss: 0.3770 - val_accuracy: 0.8896\n",
      "Epoch 9/30\n",
      "179255/179255 [==============================] - 36s 199us/step - loss: 0.2368 - accuracy: 0.9269 - val_loss: 0.3823 - val_accuracy: 0.8894\n",
      "Epoch 10/30\n",
      "179255/179255 [==============================] - 35s 194us/step - loss: 0.2210 - accuracy: 0.9322 - val_loss: 0.3622 - val_accuracy: 0.8991\n",
      "Epoch 11/30\n",
      "179255/179255 [==============================] - 35s 194us/step - loss: 0.2079 - accuracy: 0.9362 - val_loss: 0.3690 - val_accuracy: 0.8988\n",
      "Epoch 12/30\n",
      "179255/179255 [==============================] - 34s 192us/step - loss: 0.1964 - accuracy: 0.9396 - val_loss: 0.3517 - val_accuracy: 0.9026\n",
      "Epoch 13/30\n",
      "179255/179255 [==============================] - 35s 193us/step - loss: 0.1864 - accuracy: 0.9426 - val_loss: 0.3524 - val_accuracy: 0.9019\n",
      "Epoch 14/30\n",
      "179255/179255 [==============================] - 39s 215us/step - loss: 0.1774 - accuracy: 0.9457 - val_loss: 0.3433 - val_accuracy: 0.9040\n",
      "Epoch 15/30\n",
      "179255/179255 [==============================] - 36s 198us/step - loss: 0.1693 - accuracy: 0.9478 - val_loss: 0.3546 - val_accuracy: 0.9048\n",
      "Epoch 16/30\n",
      "179255/179255 [==============================] - 35s 198us/step - loss: 0.1623 - accuracy: 0.9499 - val_loss: 0.3472 - val_accuracy: 0.9036\n",
      "Epoch 17/30\n",
      "179255/179255 [==============================] - 35s 197us/step - loss: 0.1557 - accuracy: 0.9519 - val_loss: 0.3476 - val_accuracy: 0.9088\n",
      "Epoch 18/30\n",
      "179255/179255 [==============================] - 36s 199us/step - loss: 0.1496 - accuracy: 0.9536 - val_loss: 0.3369 - val_accuracy: 0.9106\n",
      "Epoch 19/30\n",
      "179255/179255 [==============================] - 35s 196us/step - loss: 0.1441 - accuracy: 0.9551 - val_loss: 0.3284 - val_accuracy: 0.9113\n",
      "Epoch 20/30\n",
      "179255/179255 [==============================] - 34s 192us/step - loss: 0.1391 - accuracy: 0.9564 - val_loss: 0.3410 - val_accuracy: 0.9099\n",
      "Epoch 21/30\n",
      "179255/179255 [==============================] - 35s 195us/step - loss: 0.1345 - accuracy: 0.9579 - val_loss: 0.3632 - val_accuracy: 0.9075\n",
      "Epoch 22/30\n",
      "179255/179255 [==============================] - 36s 201us/step - loss: 0.1302 - accuracy: 0.9592 - val_loss: 0.3468 - val_accuracy: 0.9097\n",
      "Epoch 23/30\n",
      "179255/179255 [==============================] - 36s 201us/step - loss: 0.1261 - accuracy: 0.9607 - val_loss: 0.3516 - val_accuracy: 0.9109\n",
      "Epoch 24/30\n",
      "179255/179255 [==============================] - 35s 197us/step - loss: 0.1223 - accuracy: 0.9615 - val_loss: 0.3495 - val_accuracy: 0.9112\n",
      "Epoch 25/30\n",
      "179255/179255 [==============================] - 35s 196us/step - loss: 0.1187 - accuracy: 0.9627 - val_loss: 0.3544 - val_accuracy: 0.9080\n",
      "Epoch 26/30\n",
      "179255/179255 [==============================] - 35s 197us/step - loss: 0.1154 - accuracy: 0.9638 - val_loss: 0.3545 - val_accuracy: 0.9068\n",
      "Epoch 27/30\n",
      "179255/179255 [==============================] - 35s 197us/step - loss: 0.1121 - accuracy: 0.9647 - val_loss: 0.3622 - val_accuracy: 0.9083\n",
      "Epoch 28/30\n",
      "179255/179255 [==============================] - 36s 198us/step - loss: 0.1094 - accuracy: 0.9656 - val_loss: 0.3661 - val_accuracy: 0.9089\n",
      "Epoch 29/30\n",
      "179255/179255 [==============================] - 34s 192us/step - loss: 0.1066 - accuracy: 0.9666 - val_loss: 0.3700 - val_accuracy: 0.9110\n",
      "Epoch 30/30\n",
      "179255/179255 [==============================] - 35s 197us/step - loss: 0.1039 - accuracy: 0.9672 - val_loss: 0.3733 - val_accuracy: 0.9099\n"
     ]
    }
   ],
   "source": [
    "train = model.fit(train_X, train_label, batch_size=batch_size,epochs=epochs,verbose=1,validation_data=(valid_X, valid_label))"
   ]
  },
  {
   "cell_type": "code",
   "execution_count": 81,
   "metadata": {},
   "outputs": [],
   "source": [
    "test_eval = model.evaluate(test_X, test_Y_one_hot, verbose=0)"
   ]
  },
  {
   "cell_type": "code",
   "execution_count": 82,
   "metadata": {},
   "outputs": [
    {
     "name": "stdout",
     "output_type": "stream",
     "text": [
      "Test loss: 0.2796675629253713\n",
      "Test accuracy: 0.9265612959861755\n"
     ]
    }
   ],
   "source": [
    "print('Test loss:', test_eval[0])\n",
    "print('Test accuracy:', test_eval[1])"
   ]
  },
  {
   "cell_type": "code",
   "execution_count": 83,
   "metadata": {},
   "outputs": [
    {
     "data": {
      "image/png": "[encoded data removed]",
      "text/plain": [
       "<Figure size 432x288 with 1 Axes>"
      ]
     },
     "metadata": {
      "needs_background": "light"
     },
     "output_type": "display_data"
    },
    {
     "data": {
      "image/png": "[encoded data removed]",
      "text/plain": [
       "<Figure size 432x288 with 1 Axes>"
      ]
     },
     "metadata": {
      "needs_background": "light"
     },
     "output_type": "display_data"
    }
   ],
   "source": [
    "accuracy = train.history['accuracy']\n",
    "val_accuracy = train.history['val_accuracy']\n",
    "loss = train.history['loss']\n",
    "val_loss = train.history['val_loss']\n",
    "epochs = range(len(accuracy))\n",
    "plt.plot(epochs, accuracy, 'bo', label='Training accuracy')\n",
    "plt.plot(epochs, val_accuracy, 'b', label='Validation accuracy')\n",
    "plt.title('Training and validation accuracy')\n",
    "plt.legend()\n",
    "plt.figure()\n",
    "plt.plot(epochs, loss, 'bo', label='Training loss')\n",
    "plt.plot(epochs, val_loss, 'b', label='Validation loss')\n",
    "plt.title('Training and validation loss')\n",
    "plt.legend()\n",
    "plt.show()"
   ]
  },
  {
   "cell_type": "code",
   "execution_count": 88,
   "metadata": {},
   "outputs": [],
   "source": [
    "model.save('model_4_1')"
   ]
  },
  {
   "cell_type": "code",
   "execution_count": null,
   "metadata": {},
   "outputs": [],
   "source": []
  }
 ],
 "metadata": {
  "kernelspec": {
   "display_name": "Python 3",
   "language": "python",
   "name": "python3"
  },
  "language_info": {
   "codemirror_mode": {
    "name": "ipython",
    "version": 3
   },
   "file_extension": ".py",
   "mimetype": "text/x-python",
   "name": "python",
   "nbconvert_exporter": "python",
   "pygments_lexer": "ipython3",
   "version": "3.6.12"
  }
 },
 "nbformat": 4,
 "nbformat_minor": 4
}
